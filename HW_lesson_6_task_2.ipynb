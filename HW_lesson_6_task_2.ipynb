{
 "cells": [
  {
   "cell_type": "code",
   "execution_count": null,
   "metadata": {},
   "outputs": [],
   "source": [
    "# Задание 2\n",
    "# Создайте модель под названием model с помощью RandomForestRegressor из модуля sklearn.ensemble.\n",
    "# Сделайте агрумент n_estimators равным 1000,\n",
    "# max_depth должен быть равен 12 и random_state сделайте равным 42.\n",
    "# Обучите модель на тренировочных данных аналогично тому, как вы обучали модель LinearRegression,\n",
    "# но при этом в метод fit вместо датафрейма y_train поставьте y_train.values[:, 0],\n",
    "# чтобы получить из датафрейма одномерный массив Numpy,\n",
    "# так как для класса RandomForestRegressor в данном методе для аргумента y предпочтительно применение массивов \n",
    "# вместо датафрейма.\n",
    "# Сделайте предсказание на тестовых данных и посчитайте R2. Сравните с результатом из предыдущего задания.\n",
    "# Напишите в комментариях к коду, какая модель в данном случае работает лучше."
   ]
  },
  {
   "cell_type": "code",
   "execution_count": 24,
   "metadata": {},
   "outputs": [
    {
     "name": "stdout",
     "output_type": "stream",
     "text": [
      "0.669370269149561\n"
     ]
    }
   ],
   "source": [
    "# добавляем данные из предыдущего задания\n",
    "import numpy as np\n",
    "import pandas as pd\n",
    "from sklearn.datasets import load_boston\n",
    "from sklearn.model_selection import train_test_split\n",
    "from sklearn.linear_model import LinearRegression\n",
    "from sklearn.metrics import r2_score\n",
    "boston_hw = load_boston()\n",
    "data = boston_hw[\"data\"]\n",
    "feature_names = boston_hw[\"feature_names\"]\n",
    "x = pd.DataFrame(data, columns = feature_names)\n",
    "target = boston_hw[\"target\"]\n",
    "y = pd.DataFrame(target, columns = [\"price\"])\n",
    "x_train, x_test, y_train, y_test= train_test_split(x, y, test_size=0.30, random_state=42)\n",
    "lr = LinearRegression()\n",
    "lr.fit(x_train, y_train)\n",
    "y_pred = lr.predict(x_test)\n",
    "check_test = pd.DataFrame({\"y_test\": y_test[\"price\"], \"y_pred\": y_pred.flatten() })\n",
    "print(r2_score(y_pred, y_test))\n",
    "R2_score_LR = r2_score(y_pred, y_test)"
   ]
  },
  {
   "cell_type": "code",
   "execution_count": 8,
   "metadata": {},
   "outputs": [],
   "source": [
    "from sklearn.ensemble import RandomForestRegressor"
   ]
  },
  {
   "cell_type": "code",
   "execution_count": 9,
   "metadata": {},
   "outputs": [
    {
     "data": {
      "text/plain": [
       "RandomForestRegressor(max_depth=12, n_estimators=1000, random_state=42)"
      ]
     },
     "execution_count": 9,
     "metadata": {},
     "output_type": "execute_result"
    }
   ],
   "source": [
    "model = RandomForestRegressor(max_depth=12, random_state=42, n_estimators = 1000)\n",
    "model"
   ]
  },
  {
   "cell_type": "code",
   "execution_count": 10,
   "metadata": {},
   "outputs": [
    {
     "data": {
      "text/plain": [
       "RandomForestRegressor(max_depth=12, n_estimators=1000, random_state=42)"
      ]
     },
     "execution_count": 10,
     "metadata": {},
     "output_type": "execute_result"
    }
   ],
   "source": [
    "model.fit(x_train,y_train.values[:,0])"
   ]
  },
  {
   "cell_type": "code",
   "execution_count": null,
   "metadata": {},
   "outputs": [],
   "source": [
    "y_pred = lr.predict(x_test)\n",
    "check_test = pd.DataFrame({\"y_test\": y_test[\"price\"], \"y_pred\": y_pred.flatten() })\n",
    "print(r2_score(y_pred, y_test))"
   ]
  },
  {
   "cell_type": "code",
   "execution_count": 17,
   "metadata": {},
   "outputs": [],
   "source": [
    "y_pred_RF = model.predict(x_test)"
   ]
  },
  {
   "cell_type": "code",
   "execution_count": 20,
   "metadata": {},
   "outputs": [
    {
     "data": {
      "text/plain": [
       "0.8479049999699443"
      ]
     },
     "execution_count": 20,
     "metadata": {},
     "output_type": "execute_result"
    }
   ],
   "source": [
    "R2_score_RF = r2_score(y_pred_RF, y_test)\n",
    "R2_score_RF"
   ]
  },
  {
   "cell_type": "code",
   "execution_count": 25,
   "metadata": {},
   "outputs": [
    {
     "data": {
      "text/plain": [
       "True"
      ]
     },
     "execution_count": 25,
     "metadata": {},
     "output_type": "execute_result"
    }
   ],
   "source": [
    "R2_score_RF > R2_score_LR"
   ]
  },
  {
   "cell_type": "code",
   "execution_count": 31,
   "metadata": {},
   "outputs": [
    {
     "name": "stdout",
     "output_type": "stream",
     "text": [
      "метод Random Forest более точен\n"
     ]
    }
   ],
   "source": [
    "if R2_score_RF > R2_score_LR: \n",
    "    print(\"метод Random Forest более точен\")\n",
    "else:\n",
    "    print(\"метод LinearRegression более точен\")"
   ]
  }
 ],
 "metadata": {
  "kernelspec": {
   "display_name": "Python 3",
   "language": "python",
   "name": "python3"
  },
  "language_info": {
   "codemirror_mode": {
    "name": "ipython",
    "version": 3
   },
   "file_extension": ".py",
   "mimetype": "text/x-python",
   "name": "python",
   "nbconvert_exporter": "python",
   "pygments_lexer": "ipython3",
   "version": "3.8.3"
  }
 },
 "nbformat": 4,
 "nbformat_minor": 4
}
